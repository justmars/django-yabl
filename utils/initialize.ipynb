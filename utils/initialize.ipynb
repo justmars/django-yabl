{
 "cells": [
  {
   "cell_type": "code",
   "execution_count": 4,
   "metadata": {},
   "outputs": [],
   "source": [
    "from django_init import *\n",
    "from examples.models import *\n",
    "from examples.views import *\n",
    "from bookmarks.models import *\n",
    "u = get_user_model().objects.get(username=\"mv\")\n"
   ]
  },
  {
   "cell_type": "code",
   "execution_count": 7,
   "metadata": {},
   "outputs": [],
   "source": [
    "b = SampleBook.objects.last()"
   ]
  },
  {
   "cell_type": "code",
   "execution_count": 8,
   "metadata": {},
   "outputs": [
    {
     "data": {
      "text/plain": [
       "<QuerySet [<SampleQuote: \"let us assume I am the center of creation. In doi>, <SampleQuote: “I like to learn to use the local weapons,” Mraize>]>"
      ]
     },
     "execution_count": 8,
     "metadata": {},
     "output_type": "execute_result"
    }
   ],
   "source": [
    "b.quotes.all()"
   ]
  },
  {
   "cell_type": "code",
   "execution_count": 13,
   "metadata": {},
   "outputs": [
    {
     "data": {
      "text/plain": [
       "<QuerySet [<SampleQuote: “I like to learn to use the local weapons,” Mraize>]>"
      ]
     },
     "execution_count": 13,
     "metadata": {},
     "output_type": "execute_result"
    }
   ],
   "source": [
    "\n",
    "from django.contrib.contenttypes.models import ContentType\n",
    "ct = ContentType.objects.get(app_label=\"examples\", model=\"samplequote\")\n",
    "ids = list(u.bookmark_set.filter(content_type=ct).values_list(\"object_id\", flat=True))\n",
    "b.quotes.filter(id__in=ids)"
   ]
  },
  {
   "cell_type": "code",
   "execution_count": 2,
   "metadata": {},
   "outputs": [
    {
     "data": {
      "text/plain": [
       "[examples.models.SampleBook, examples.models.SampleQuote]"
      ]
     },
     "execution_count": 2,
     "metadata": {},
     "output_type": "execute_result"
    }
   ],
   "source": [
    "AbstractBookmarkable.__subclasses__()"
   ]
  },
  {
   "cell_type": "code",
   "execution_count": null,
   "metadata": {},
   "outputs": [],
   "source": []
  }
 ],
 "metadata": {
  "interpreter": {
   "hash": "265f1900816dc6131bc8a9c47d3f4253751dfa7dcfe43d18765a20efa065fe20"
  },
  "kernelspec": {
   "display_name": "Python 3.9.7 64-bit ('.venv': poetry)",
   "name": "python3"
  },
  "language_info": {
   "codemirror_mode": {
    "name": "ipython",
    "version": 3
   },
   "file_extension": ".py",
   "mimetype": "text/x-python",
   "name": "python",
   "nbconvert_exporter": "python",
   "pygments_lexer": "ipython3",
   "version": "3.10.2"
  },
  "orig_nbformat": 2
 },
 "nbformat": 4,
 "nbformat_minor": 2
}
